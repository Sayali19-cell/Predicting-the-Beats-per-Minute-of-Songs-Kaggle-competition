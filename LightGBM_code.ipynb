{
 "cells": [
  {
   "cell_type": "code",
   "execution_count": 3,
   "id": "73142009",
   "metadata": {},
   "outputs": [],
   "source": [
    "!pip install lightgbm --quiet\n"
   ]
  },
  {
   "cell_type": "code",
   "execution_count": 4,
   "id": "56d06e2d",
   "metadata": {},
   "outputs": [],
   "source": [
    "import os\n",
    "import numpy as np\n",
    "import pandas as pd\n",
    "from sklearn.model_selection import KFold\n",
    "from sklearn.metrics import mean_squared_error\n",
    "import lightgbm as lgb\n",
    "from sklearn.preprocessing import OrdinalEncoder\n"
   ]
  },
  {
   "cell_type": "code",
   "execution_count": 5,
   "id": "ecf0ae25",
   "metadata": {},
   "outputs": [
    {
     "name": "stdout",
     "output_type": "stream",
     "text": [
      "Train shape: (524164, 11)\n",
      "Test shape : (174722, 10)\n"
     ]
    },
    {
     "data": {
      "text/html": [
       "<div>\n",
       "<style scoped>\n",
       "    .dataframe tbody tr th:only-of-type {\n",
       "        vertical-align: middle;\n",
       "    }\n",
       "\n",
       "    .dataframe tbody tr th {\n",
       "        vertical-align: top;\n",
       "    }\n",
       "\n",
       "    .dataframe thead th {\n",
       "        text-align: right;\n",
       "    }\n",
       "</style>\n",
       "<table border=\"1\" class=\"dataframe\">\n",
       "  <thead>\n",
       "    <tr style=\"text-align: right;\">\n",
       "      <th></th>\n",
       "      <th>id</th>\n",
       "      <th>RhythmScore</th>\n",
       "      <th>AudioLoudness</th>\n",
       "      <th>VocalContent</th>\n",
       "      <th>AcousticQuality</th>\n",
       "      <th>InstrumentalScore</th>\n",
       "      <th>LivePerformanceLikelihood</th>\n",
       "      <th>MoodScore</th>\n",
       "      <th>TrackDurationMs</th>\n",
       "      <th>Energy</th>\n",
       "      <th>BeatsPerMinute</th>\n",
       "    </tr>\n",
       "  </thead>\n",
       "  <tbody>\n",
       "    <tr>\n",
       "      <th>0</th>\n",
       "      <td>0</td>\n",
       "      <td>0.603610</td>\n",
       "      <td>-7.636942</td>\n",
       "      <td>0.023500</td>\n",
       "      <td>0.000005</td>\n",
       "      <td>0.000001</td>\n",
       "      <td>0.051385</td>\n",
       "      <td>0.409866</td>\n",
       "      <td>290715.6450</td>\n",
       "      <td>0.826267</td>\n",
       "      <td>147.53020</td>\n",
       "    </tr>\n",
       "    <tr>\n",
       "      <th>1</th>\n",
       "      <td>1</td>\n",
       "      <td>0.639451</td>\n",
       "      <td>-16.267598</td>\n",
       "      <td>0.071520</td>\n",
       "      <td>0.444929</td>\n",
       "      <td>0.349414</td>\n",
       "      <td>0.170522</td>\n",
       "      <td>0.651010</td>\n",
       "      <td>164519.5174</td>\n",
       "      <td>0.145400</td>\n",
       "      <td>136.15963</td>\n",
       "    </tr>\n",
       "    <tr>\n",
       "      <th>2</th>\n",
       "      <td>2</td>\n",
       "      <td>0.514538</td>\n",
       "      <td>-15.953575</td>\n",
       "      <td>0.110715</td>\n",
       "      <td>0.173699</td>\n",
       "      <td>0.453814</td>\n",
       "      <td>0.029576</td>\n",
       "      <td>0.423865</td>\n",
       "      <td>174495.5667</td>\n",
       "      <td>0.624667</td>\n",
       "      <td>55.31989</td>\n",
       "    </tr>\n",
       "    <tr>\n",
       "      <th>3</th>\n",
       "      <td>3</td>\n",
       "      <td>0.734463</td>\n",
       "      <td>-1.357000</td>\n",
       "      <td>0.052965</td>\n",
       "      <td>0.001651</td>\n",
       "      <td>0.159717</td>\n",
       "      <td>0.086366</td>\n",
       "      <td>0.278745</td>\n",
       "      <td>225567.4651</td>\n",
       "      <td>0.487467</td>\n",
       "      <td>147.91212</td>\n",
       "    </tr>\n",
       "    <tr>\n",
       "      <th>4</th>\n",
       "      <td>4</td>\n",
       "      <td>0.532968</td>\n",
       "      <td>-13.056437</td>\n",
       "      <td>0.023500</td>\n",
       "      <td>0.068687</td>\n",
       "      <td>0.000001</td>\n",
       "      <td>0.331345</td>\n",
       "      <td>0.477769</td>\n",
       "      <td>213960.6789</td>\n",
       "      <td>0.947333</td>\n",
       "      <td>89.58511</td>\n",
       "    </tr>\n",
       "  </tbody>\n",
       "</table>\n",
       "</div>"
      ],
      "text/plain": [
       "   id  RhythmScore  AudioLoudness  VocalContent  AcousticQuality  \\\n",
       "0   0     0.603610      -7.636942      0.023500         0.000005   \n",
       "1   1     0.639451     -16.267598      0.071520         0.444929   \n",
       "2   2     0.514538     -15.953575      0.110715         0.173699   \n",
       "3   3     0.734463      -1.357000      0.052965         0.001651   \n",
       "4   4     0.532968     -13.056437      0.023500         0.068687   \n",
       "\n",
       "   InstrumentalScore  LivePerformanceLikelihood  MoodScore  TrackDurationMs  \\\n",
       "0           0.000001                   0.051385   0.409866      290715.6450   \n",
       "1           0.349414                   0.170522   0.651010      164519.5174   \n",
       "2           0.453814                   0.029576   0.423865      174495.5667   \n",
       "3           0.159717                   0.086366   0.278745      225567.4651   \n",
       "4           0.000001                   0.331345   0.477769      213960.6789   \n",
       "\n",
       "     Energy  BeatsPerMinute  \n",
       "0  0.826267       147.53020  \n",
       "1  0.145400       136.15963  \n",
       "2  0.624667        55.31989  \n",
       "3  0.487467       147.91212  \n",
       "4  0.947333        89.58511  "
      ]
     },
     "execution_count": 5,
     "metadata": {},
     "output_type": "execute_result"
    }
   ],
   "source": [
    "# Adjust paths if running locally. On Kaggle, just use '../input/...'\n",
    "TRAIN_PATH = \"train.csv\"\n",
    "TEST_PATH  = \"test.csv\"\n",
    "SAMPLE_SUB_PATH = \"sample_submission.csv\"\n",
    "\n",
    "train = pd.read_csv(TRAIN_PATH)\n",
    "test  = pd.read_csv(TEST_PATH)\n",
    "sample = pd.read_csv(SAMPLE_SUB_PATH)\n",
    "\n",
    "print(\"Train shape:\", train.shape)\n",
    "print(\"Test shape :\", test.shape)\n",
    "train.head()\n"
   ]
  },
  {
   "cell_type": "code",
   "execution_count": 6,
   "id": "15c47e48",
   "metadata": {},
   "outputs": [
    {
     "name": "stdout",
     "output_type": "stream",
     "text": [
      "\n",
      "--- Dtypes ---\n",
      "float64    10\n",
      "int64       1\n",
      "Name: count, dtype: int64\n",
      "\n",
      "Missing values (train top 20):\n",
      "id                           0\n",
      "RhythmScore                  0\n",
      "AudioLoudness                0\n",
      "VocalContent                 0\n",
      "AcousticQuality              0\n",
      "InstrumentalScore            0\n",
      "LivePerformanceLikelihood    0\n",
      "MoodScore                    0\n",
      "TrackDurationMs              0\n",
      "Energy                       0\n",
      "BeatsPerMinute               0\n",
      "dtype: int64\n",
      "\n",
      "Target summary:\n",
      "count    524164.000000\n",
      "mean        119.034899\n",
      "std          26.468077\n",
      "min          46.718000\n",
      "25%         101.070410\n",
      "50%         118.747660\n",
      "75%         136.686590\n",
      "max         206.037000\n",
      "Name: BeatsPerMinute, dtype: float64\n"
     ]
    }
   ],
   "source": [
    "print(\"\\n--- Dtypes ---\")\n",
    "print(train.dtypes.value_counts())\n",
    "print(\"\\nMissing values (train top 20):\")\n",
    "print(train.isna().sum().sort_values(ascending=False).head(20))\n",
    "\n",
    "if \"BeatsPerMinute\" in train.columns:\n",
    "    print(\"\\nTarget summary:\")\n",
    "    print(train[\"BeatsPerMinute\"].describe())\n"
   ]
  },
  {
   "cell_type": "code",
   "execution_count": 7,
   "id": "5d152467",
   "metadata": {},
   "outputs": [
    {
     "name": "stdout",
     "output_type": "stream",
     "text": [
      "Numeric columns: 9\n",
      "Categorical columns: 0\n"
     ]
    }
   ],
   "source": [
    "ID_COL = \"ID\" if \"ID\" in train.columns else train.columns[0]\n",
    "TARGET = \"BeatsPerMinute\"\n",
    "\n",
    "def prepare_features(df, is_train=True):\n",
    "    X = df.copy()\n",
    "    if ID_COL in X.columns:\n",
    "        X = X.drop(columns=[ID_COL])\n",
    "    if is_train and TARGET in X.columns:\n",
    "        X = X.drop(columns=[TARGET])\n",
    "    return X\n",
    "\n",
    "X_full = pd.concat([prepare_features(train, True),\n",
    "                    prepare_features(test, False)], axis=0, ignore_index=True)\n",
    "\n",
    "numeric_cols = X_full.select_dtypes(include=[np.number]).columns.tolist()\n",
    "cat_cols = X_full.select_dtypes(exclude=[np.number]).columns.tolist()\n",
    "\n",
    "print(\"Numeric columns:\", len(numeric_cols))\n",
    "print(\"Categorical columns:\", len(cat_cols))\n"
   ]
  },
  {
   "cell_type": "code",
   "execution_count": 8,
   "id": "c87d33b9",
   "metadata": {},
   "outputs": [
    {
     "name": "stderr",
     "output_type": "stream",
     "text": [
      "C:\\Users\\290938\\AppData\\Local\\Temp\\ipykernel_17512\\196002661.py:3: FutureWarning: A value is trying to be set on a copy of a DataFrame or Series through chained assignment using an inplace method.\n",
      "The behavior will change in pandas 3.0. This inplace method will never work because the intermediate object on which we are setting values always behaves as a copy.\n",
      "\n",
      "For example, when doing 'df[col].method(value, inplace=True)', try using 'df.method({col: value}, inplace=True)' or df[col] = df[col].method(value) instead, to perform the operation inplace on the original object.\n",
      "\n",
      "\n",
      "  X_full[c].fillna(X_full[c].median(), inplace=True)\n"
     ]
    }
   ],
   "source": [
    "# Impute numerics\n",
    "for c in numeric_cols:\n",
    "    X_full[c].fillna(X_full[c].median(), inplace=True)\n",
    "\n",
    "# Impute categoricals\n",
    "for c in cat_cols:\n",
    "    X_full[c].fillna(\"__MISSING__\", inplace=True)\n",
    "\n",
    "if cat_cols:\n",
    "    enc = OrdinalEncoder(handle_unknown='use_encoded_value', unknown_value=-1)\n",
    "    X_full[cat_cols] = enc.fit_transform(X_full[cat_cols])\n"
   ]
  },
  {
   "cell_type": "code",
   "execution_count": 9,
   "id": "ed94f107",
   "metadata": {},
   "outputs": [],
   "source": [
    "# Missing counts per row\n",
    "na_series = pd.concat([train.isna().sum(axis=1),\n",
    "                       test.isna().sum(axis=1)], ignore_index=True)\n",
    "X_full[\"num_missing_orig\"] = na_series.values\n",
    "\n",
    "# Row-level statistics (only if numerics exist)\n",
    "if len(numeric_cols) > 0:\n",
    "    X_full[\"row_mean\"] = X_full[numeric_cols].mean(axis=1)\n",
    "    X_full[\"row_std\"]  = X_full[numeric_cols].std(axis=1).fillna(0)\n",
    "    X_full[\"row_sum\"]  = X_full[numeric_cols].sum(axis=1)\n"
   ]
  },
  {
   "cell_type": "code",
   "execution_count": 10,
   "id": "0722fb8f",
   "metadata": {},
   "outputs": [
    {
     "name": "stdout",
     "output_type": "stream",
     "text": [
      "Final X shape: (524164, 13)\n",
      "Final X_test shape: (174722, 13)\n"
     ]
    }
   ],
   "source": [
    "n_train = train.shape[0]\n",
    "X = X_full.iloc[:n_train, :].reset_index(drop=True)\n",
    "X_test = X_full.iloc[n_train:, :].reset_index(drop=True)\n",
    "y = train[TARGET].values\n",
    "\n",
    "print(\"Final X shape:\", X.shape)\n",
    "print(\"Final X_test shape:\", X_test.shape)\n"
   ]
  },
  {
   "cell_type": "code",
   "execution_count": 16,
   "id": "7fb529cc",
   "metadata": {},
   "outputs": [
    {
     "name": "stdout",
     "output_type": "stream",
     "text": [
      "Fold 1\n",
      "Training until validation scores don't improve for 200 rounds\n",
      "[100]\ttrain's rmse: 26.3342\tvalid's rmse: 26.4428\n",
      "[200]\ttrain's rmse: 26.2171\tvalid's rmse: 26.4485\n",
      "Early stopping, best iteration is:\n",
      "[32]\ttrain's rmse: 26.419\tvalid's rmse: 26.4393\n",
      "Fold 2\n",
      "Training until validation scores don't improve for 200 rounds\n",
      "[100]\ttrain's rmse: 26.3265\tvalid's rmse: 26.4879\n",
      "[200]\ttrain's rmse: 26.2098\tvalid's rmse: 26.492\n",
      "Early stopping, best iteration is:\n",
      "[33]\ttrain's rmse: 26.4075\tvalid's rmse: 26.486\n",
      "Fold 3\n",
      "Training until validation scores don't improve for 200 rounds\n",
      "[100]\ttrain's rmse: 26.3106\tvalid's rmse: 26.5266\n",
      "[200]\ttrain's rmse: 26.1892\tvalid's rmse: 26.5313\n",
      "Early stopping, best iteration is:\n",
      "[23]\ttrain's rmse: 26.4106\tvalid's rmse: 26.5258\n",
      "Fold 4\n",
      "Training until validation scores don't improve for 200 rounds\n",
      "[100]\ttrain's rmse: 26.3371\tvalid's rmse: 26.4477\n",
      "[200]\ttrain's rmse: 26.2206\tvalid's rmse: 26.4545\n",
      "Early stopping, best iteration is:\n",
      "[60]\ttrain's rmse: 26.3858\tvalid's rmse: 26.4454\n",
      "Fold 5\n",
      "Training until validation scores don't improve for 200 rounds\n",
      "[100]\ttrain's rmse: 26.3436\tvalid's rmse: 26.4118\n",
      "[200]\ttrain's rmse: 26.2244\tvalid's rmse: 26.4159\n",
      "Early stopping, best iteration is:\n",
      "[48]\ttrain's rmse: 26.4061\tvalid's rmse: 26.4095\n"
     ]
    }
   ],
   "source": [
    "from lightgbm import early_stopping, log_evaluation\n",
    "\n",
    "use_log_target = False\n",
    "y_train = np.log1p(y) if use_log_target else y.copy()\n",
    "\n",
    "folds = 5\n",
    "kf = KFold(n_splits=folds, shuffle=True, random_state=42)\n",
    "\n",
    "oof_preds = np.zeros(n_train)\n",
    "test_preds = np.zeros(X_test.shape[0])\n",
    "\n",
    "lgb_params = {\n",
    "    \"objective\": \"regression\",\n",
    "    \"metric\": \"rmse\",\n",
    "    \"boosting_type\": \"gbdt\",\n",
    "    \"learning_rate\": 0.05,\n",
    "    \"num_leaves\": 64,\n",
    "    \"max_depth\": -1,\n",
    "    \"subsample\": 0.8,\n",
    "    \"colsample_bytree\": 0.7,\n",
    "    \"n_estimators\": 10000,\n",
    "    \"random_state\": 42,\n",
    "    \"verbosity\": -1\n",
    "}\n",
    "\n",
    "for fold, (tr_idx, val_idx) in enumerate(kf.split(X, y_train)):\n",
    "    print(f\"Fold {fold+1}\")\n",
    "    X_tr, X_val = X.iloc[tr_idx], X.iloc[val_idx]\n",
    "    y_tr, y_val = y_train[tr_idx], y_train[val_idx]\n",
    "\n",
    "    train_data = lgb.Dataset(X_tr, label=y_tr)\n",
    "    valid_data = lgb.Dataset(X_val, label=y_val)\n",
    "\n",
    "    clf = lgb.train(\n",
    "        params=lgb_params,\n",
    "        train_set=train_data,\n",
    "        valid_sets=[train_data, valid_data],\n",
    "        valid_names=[\"train\",\"valid\"],\n",
    "        callbacks=[\n",
    "            early_stopping(stopping_rounds=200),\n",
    "            log_evaluation(period=100)\n",
    "        ]\n",
    "    )\n",
    "\n",
    "    oof_preds[val_idx] = clf.predict(X_val, num_iteration=clf.best_iteration)\n",
    "    test_preds += clf.predict(X_test, num_iteration=clf.best_iteration) / folds\n"
   ]
  },
  {
   "cell_type": "code",
   "execution_count": null,
   "id": "57e2ad48",
   "metadata": {},
   "outputs": [
    {
     "name": "stdout",
     "output_type": "stream",
     "text": [
      "OOF RMSE: 26.46124\n"
     ]
    }
   ],
   "source": [
    "# Evaluate (compatible with older sklearn versions)\n",
    "import numpy as np\n",
    "from sklearn.metrics import mean_squared_error\n",
    "\n",
    "# If you trained on log target, oof_preds are on log scale; convert back before scoring\n",
    "if use_log_target:\n",
    "    y_true = np.expm1(y_train)       # original-scale targets\n",
    "    oof_true = np.expm1(oof_preds)   # original-scale oof preds\n",
    "else:\n",
    "    y_true = y_train\n",
    "    oof_true = oof_preds\n",
    "\n",
    "mse = mean_squared_error(y_true, oof_true)   # returns MSE\n",
    "oof_rmse = np.sqrt(mse)                       # RMSE\n",
    "\n",
    "print(f\"OOF RMSE: {oof_rmse:.5f}\")\n"
   ]
  },
  {
   "cell_type": "code",
   "execution_count": 18,
   "id": "c61993a7",
   "metadata": {},
   "outputs": [
    {
     "name": "stdout",
     "output_type": "stream",
     "text": [
      "Submission file saved as submission.csv\n"
     ]
    },
    {
     "data": {
      "text/html": [
       "<div>\n",
       "<style scoped>\n",
       "    .dataframe tbody tr th:only-of-type {\n",
       "        vertical-align: middle;\n",
       "    }\n",
       "\n",
       "    .dataframe tbody tr th {\n",
       "        vertical-align: top;\n",
       "    }\n",
       "\n",
       "    .dataframe thead th {\n",
       "        text-align: right;\n",
       "    }\n",
       "</style>\n",
       "<table border=\"1\" class=\"dataframe\">\n",
       "  <thead>\n",
       "    <tr style=\"text-align: right;\">\n",
       "      <th></th>\n",
       "      <th>id</th>\n",
       "      <th>BeatsPerMinute</th>\n",
       "    </tr>\n",
       "  </thead>\n",
       "  <tbody>\n",
       "    <tr>\n",
       "      <th>0</th>\n",
       "      <td>524164</td>\n",
       "      <td>119.174534</td>\n",
       "    </tr>\n",
       "    <tr>\n",
       "      <th>1</th>\n",
       "      <td>524165</td>\n",
       "      <td>118.735203</td>\n",
       "    </tr>\n",
       "    <tr>\n",
       "      <th>2</th>\n",
       "      <td>524166</td>\n",
       "      <td>119.409258</td>\n",
       "    </tr>\n",
       "    <tr>\n",
       "      <th>3</th>\n",
       "      <td>524167</td>\n",
       "      <td>119.280198</td>\n",
       "    </tr>\n",
       "    <tr>\n",
       "      <th>4</th>\n",
       "      <td>524168</td>\n",
       "      <td>119.556224</td>\n",
       "    </tr>\n",
       "  </tbody>\n",
       "</table>\n",
       "</div>"
      ],
      "text/plain": [
       "       id  BeatsPerMinute\n",
       "0  524164      119.174534\n",
       "1  524165      118.735203\n",
       "2  524166      119.409258\n",
       "3  524167      119.280198\n",
       "4  524168      119.556224"
      ]
     },
     "execution_count": 18,
     "metadata": {},
     "output_type": "execute_result"
    }
   ],
   "source": [
    "final_test_pred = np.expm1(test_preds) if use_log_target else test_preds\n",
    "final_test_pred = np.maximum(final_test_pred, 0.0)  # no negatives\n",
    "final_test_pred = np.clip(final_test_pred, 30, 250) # realistic BPM range\n",
    "\n",
    "ids = test[ID_COL].values\n",
    "sub = pd.DataFrame({ID_COL: ids, \"BeatsPerMinute\": final_test_pred})\n",
    "\n",
    "sub.to_csv(\"submission.csv\", index=False)\n",
    "print(\"Submission file saved as submission.csv\")\n",
    "sub.head()\n"
   ]
  },
  {
   "cell_type": "code",
   "execution_count": null,
   "id": "5312a207",
   "metadata": {},
   "outputs": [],
   "source": []
  },
  {
   "cell_type": "code",
   "execution_count": null,
   "id": "f0d2c872",
   "metadata": {},
   "outputs": [],
   "source": []
  },
  {
   "cell_type": "code",
   "execution_count": null,
   "id": "5a6f7428",
   "metadata": {},
   "outputs": [],
   "source": []
  },
  {
   "cell_type": "code",
   "execution_count": null,
   "id": "ce4675d0",
   "metadata": {},
   "outputs": [],
   "source": []
  }
 ],
 "metadata": {
  "kernelspec": {
   "display_name": "base",
   "language": "python",
   "name": "python3"
  },
  "language_info": {
   "codemirror_mode": {
    "name": "ipython",
    "version": 3
   },
   "file_extension": ".py",
   "mimetype": "text/x-python",
   "name": "python",
   "nbconvert_exporter": "python",
   "pygments_lexer": "ipython3",
   "version": "3.12.7"
  }
 },
 "nbformat": 4,
 "nbformat_minor": 5
}
